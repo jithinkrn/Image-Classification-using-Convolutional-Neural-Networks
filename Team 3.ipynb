{
 "cells": [
  {
   "cell_type": "markdown",
   "metadata": {},
   "source": [
    "# SA54 Python/Machine Learning CA Workshop 2\n",
    "### Image Classification using Convolutional Neural Networks"
   ]
  },
  {
   "cell_type": "markdown",
   "metadata": {},
   "source": [
    "##### SA 54 Team 3<br>\n",
    "Cheong Wei Ming Marcus - A0124816H<br>\n",
    "Kolanjhikannan Akshayahasinee – A0249484N<br>\n",
    "Htoo Eain Si Lwin – A0249489E<br>\n",
    "Gabriel Chua Reyes – A0249469J<br>\n",
    "Jithin Krishnan – A0249481W<br>\n",
    "Tian Shuang – A0249479H"
   ]
  },
  {
   "cell_type": "markdown",
   "metadata": {},
   "source": [
    "# Base Code"
   ]
  },
  {
   "cell_type": "markdown",
   "metadata": {},
   "source": [
    "To have a baseline model to improve upon using the provided training and test data, the machine learning process requires the relevant Python packages to be imported."
   ]
  },
  {
   "cell_type": "code",
   "execution_count": 1,
   "metadata": {},
   "outputs": [],
   "source": [
    "import numpy as np\n",
    "import tensorflow as tf\n",
    "import matplotlib.pyplot as plt\n",
    "from PIL import Image\n",
    "import os.path\n",
    "import random"
   ]
  },
  {
   "cell_type": "markdown",
   "metadata": {},
   "source": [
    "### Uploading Training Dataset\n",
    "\n",
    "A user-defined method to upload the images to the dataset was constructed. The same method will be used for uploading the train and test datasets, using different parameters."
   ]
  },
  {
   "cell_type": "code",
   "execution_count": 2,
   "metadata": {},
   "outputs": [],
   "source": [
    "def datasetUpload(img_path, resol, numb):\n",
    "    fruits = ['apple', 'banana', 'orange', 'mixed']\n",
    "    one_hot = {\n",
    "        'apple': [1, 0, 0, 0],\n",
    "        'banana': [0, 1, 0, 0],\n",
    "        'orange': [0, 0, 1, 0],\n",
    "        'mixed': [0, 0, 0, 1]}\n",
    "\n",
    "    train_label = []\n",
    "    x_set = None\n",
    "    y_set = []\n",
    "\n",
    "    for fruit in fruits:\n",
    "        count = 0\n",
    "        for file_name in os.listdir(img_path):\n",
    "            if count < numb:\n",
    "                if file_name[0:len(fruit)] == fruit:\n",
    "                    img_raw = Image.open(img_path + '/' + file_name)\n",
    "                    img_rgb = img_raw.convert(\"RGB\")\n",
    "                    img_tiny = img_rgb.resize((resol, resol))\n",
    "                    train_label.append([img_tiny, one_hot[fruit]]) # put both img object and label into a list so that we can shuffle. It is recommended to shuffle if some images from the same set will be used for validation so as to avoid biasness.\n",
    "                    count += 1\n",
    "\n",
    "        print(f'{fruit} count: {count}')\n",
    "\n",
    "    random.shuffle(train_label) # where the magic happens\n",
    "    \n",
    "    for i in train_label: # seperating img and label into their respective arrays\n",
    "        if x_set is None:\n",
    "            x_set = i[0]\n",
    "        else:\n",
    "            x_set = np.concatenate((x_set, i[0]))\n",
    "        y_set.append(i[1])\n",
    "    \n",
    "    x_set = x_set.reshape(-1, resol, resol, 3)\n",
    "\n",
    "    return x_set, np.array(y_set)"
   ]
  },
  {
   "cell_type": "markdown",
   "metadata": {},
   "source": [
    "The x_set output represents the collection of matrices compiled from the images of the training data, while the y_yet represents the label for that specific image, represented in a one-hot encoded vector. For example, x_set[n] will be an image of an apple, while y_set[n] will be the one-hot encoded vector for the \"apple\" label [1, 0, 0, 0]."
   ]
  },
  {
   "cell_type": "markdown",
   "metadata": {},
   "source": [
    "The code below executes the user-defined method above on the training dataset folder. "
   ]
  },
  {
   "cell_type": "code",
   "execution_count": 3,
   "metadata": {},
   "outputs": [
    {
     "name": "stderr",
     "output_type": "stream",
     "text": [
      "c:\\Users\\GG.MaX\\Desktop\\myPythonProj\\env\\lib\\site-packages\\PIL\\Image.py:992: UserWarning: Palette images with Transparency expressed in bytes should be converted to RGBA images\n",
      "  warnings.warn(\n"
     ]
    },
    {
     "name": "stdout",
     "output_type": "stream",
     "text": [
      "apple count: 75\n",
      "banana count: 71\n",
      "orange count: 72\n",
      "mixed count: 22\n",
      "(240, 64, 64, 3)\n",
      "(240, 4)\n"
     ]
    }
   ],
   "source": [
    "train_path = 'train'\n",
    "resol = 64\n",
    "\n",
    "x_train, y_train = datasetUpload(train_path, resol, 999)\n",
    "\n",
    "print(x_train.shape)  \n",
    "print(y_train.shape)  "
   ]
  },
  {
   "cell_type": "markdown",
   "metadata": {},
   "source": [
    "As seen above, the shape of the datasets represents:\n",
    "1) the number of datapoints/samples, \n",
    "2) the image dimensions, and \n",
    "3) color channel for the training data (added via the reshape method)."
   ]
  },
  {
   "cell_type": "markdown",
   "metadata": {},
   "source": [
    "### Constructing Machine Learning Model\n",
    "\n",
    "The code below displays the basic layers used for the construction of the model. For the base code, the team decided to use 4 layers: 2 convolutional layers at the beginning, 1 flatten layer at the middle, and a dense layer at the end with 4 nodes to represent the labels of our dataset."
   ]
  },
  {
   "cell_type": "code",
   "execution_count": 4,
   "metadata": {},
   "outputs": [
    {
     "data": {
      "text/plain": [
       "[<keras.layers.convolutional.Conv2D at 0x1f64b96e410>,\n",
       " <keras.layers.convolutional.Conv2D at 0x1f64b96c520>,\n",
       " <keras.layers.core.flatten.Flatten at 0x1f64b9f6200>,\n",
       " <keras.layers.core.dense.Dense at 0x1f64b96d000>]"
      ]
     },
     "execution_count": 4,
     "metadata": {},
     "output_type": "execute_result"
    }
   ],
   "source": [
    "#set up model\n",
    "model = tf.keras.Sequential()\n",
    "\n",
    "#create Convolution Layer\n",
    "model.add(tf.keras.layers.Conv2D(filters=32, kernel_size=(3, 3), activation='relu', input_shape=(64, 64, 3)))\n",
    "model.add(tf.keras.layers.Conv2D(filters=32, kernel_size=(5, 5), activation='relu'))\n",
    "\n",
    "#create Flatten Layer\n",
    "model.add(tf.keras.layers.Flatten())\n",
    "\n",
    "#create Dense Layer\n",
    "model.add(tf.keras.layers.Dense(units=4, activation='softmax'))\n",
    "\n",
    "model.layers"
   ]
  },
  {
   "cell_type": "markdown",
   "metadata": {},
   "source": [
    "### Training the Model using Training Dataset\n",
    "\n",
    "The code below displays the method with which the model is trained. When fitting the model, all the values of the x_train dataset were divded by 255 to normalize the values to [0, 1], making training the model more efficient."
   ]
  },
  {
   "cell_type": "code",
   "execution_count": 5,
   "metadata": {},
   "outputs": [
    {
     "name": "stdout",
     "output_type": "stream",
     "text": [
      "Epoch 1/15\n",
      "8/8 [==============================] - 2s 166ms/step - loss: 2.3157 - accuracy: 0.3458\n",
      "Epoch 2/15\n",
      "8/8 [==============================] - 1s 165ms/step - loss: 1.2365 - accuracy: 0.4125\n",
      "Epoch 3/15\n",
      "8/8 [==============================] - 1s 169ms/step - loss: 1.1072 - accuracy: 0.6250\n",
      "Epoch 4/15\n",
      "8/8 [==============================] - 1s 165ms/step - loss: 0.8408 - accuracy: 0.7125\n",
      "Epoch 5/15\n",
      "8/8 [==============================] - 1s 163ms/step - loss: 0.6320 - accuracy: 0.7625\n",
      "Epoch 6/15\n",
      "8/8 [==============================] - 1s 163ms/step - loss: 0.3553 - accuracy: 0.9083\n",
      "Epoch 7/15\n",
      "8/8 [==============================] - 1s 170ms/step - loss: 0.1876 - accuracy: 0.9417\n",
      "Epoch 8/15\n",
      "8/8 [==============================] - 1s 164ms/step - loss: 0.1397 - accuracy: 0.9458\n",
      "Epoch 9/15\n",
      "8/8 [==============================] - 1s 161ms/step - loss: 0.1015 - accuracy: 0.9667\n",
      "Epoch 10/15\n",
      "8/8 [==============================] - 1s 169ms/step - loss: 0.0810 - accuracy: 0.9792\n",
      "Epoch 11/15\n",
      "8/8 [==============================] - 1s 170ms/step - loss: 0.0547 - accuracy: 0.9875\n",
      "Epoch 12/15\n",
      "8/8 [==============================] - 1s 169ms/step - loss: 0.0604 - accuracy: 0.9833\n",
      "Epoch 13/15\n",
      "8/8 [==============================] - 1s 168ms/step - loss: 0.2338 - accuracy: 0.8875\n",
      "Epoch 14/15\n",
      "8/8 [==============================] - 1s 166ms/step - loss: 0.1224 - accuracy: 0.9625\n",
      "Epoch 15/15\n",
      "8/8 [==============================] - 1s 163ms/step - loss: 0.0683 - accuracy: 0.9833\n"
     ]
    }
   ],
   "source": [
    "model.compile(loss='categorical_crossentropy', optimizer='adam', metrics=['accuracy'])\n",
    "\n",
    "hist = model.fit(x=x_train/255, y=y_train, epochs=15)"
   ]
  },
  {
   "cell_type": "markdown",
   "metadata": {},
   "source": [
    "### Uploading Test Dataset\n",
    "\n",
    "The code above runs the user-defined method for uploading again over the /test/ folder this time to create the test dataset."
   ]
  },
  {
   "cell_type": "code",
   "execution_count": 6,
   "metadata": {},
   "outputs": [
    {
     "name": "stdout",
     "output_type": "stream",
     "text": [
      "apple count: 19\n",
      "banana count: 18\n",
      "orange count: 18\n",
      "mixed count: 5\n"
     ]
    },
    {
     "data": {
      "text/plain": [
       "(60, 64, 64, 3)"
      ]
     },
     "execution_count": 6,
     "metadata": {},
     "output_type": "execute_result"
    }
   ],
   "source": [
    "#uploading x_test and y_test\n",
    "\n",
    "test_path = 'test'\n",
    "\n",
    "x_test, y_test = datasetUpload(test_path, resol, 999)\n",
    "\n",
    "x_test.shape  "
   ]
  },
  {
   "cell_type": "markdown",
   "metadata": {},
   "source": [
    "### Evaluating the Model\n",
    "\n",
    "After the test dataset has been compiled, the fuly-trained model is now evaulated using said dataset. As with the training dataset, the test dataset values are normalized for ease of evaluating."
   ]
  },
  {
   "cell_type": "code",
   "execution_count": 7,
   "metadata": {},
   "outputs": [
    {
     "name": "stdout",
     "output_type": "stream",
     "text": [
      "2/2 [==============================] - 0s 21ms/step - loss: 0.5855 - accuracy: 0.8833\n",
      "Loss:  0.5855228304862976 \tAccuracy:  0.8833333253860474\n"
     ]
    }
   ],
   "source": [
    "loss, accuracy = model.evaluate(x = x_test/255, y = y_test)\n",
    "print(\"Loss: \", loss, \"\\tAccuracy: \", accuracy)"
   ]
  },
  {
   "cell_type": "code",
   "execution_count": 8,
   "metadata": {},
   "outputs": [
    {
     "data": {
      "image/png": "[encoded data removed]",
      "text/plain": [
       "<Figure size 864x432 with 2 Axes>"
      ]
     },
     "metadata": {
      "needs_background": "light"
     },
     "output_type": "display_data"
    }
   ],
   "source": [
    "def LossAndAccuracyGraph(hist_model):\n",
    "    fig, ax = plt.subplots(nrows=1, ncols=2, figsize=(12, 6))\n",
    "\n",
    "    ax[0].plot(hist_model.history['loss'])\n",
    "    ax[0].set_xlabel('Epochs')\n",
    "    ax[0].set_ylabel('Loss')\n",
    "    ax[0].set_title('Loss Graph')\n",
    "\n",
    "    ax[1].plot(hist_model.history['accuracy'])\n",
    "    ax[1].set_xlabel('Epochs')\n",
    "    ax[1].set_ylabel('Accuracy')\n",
    "    ax[1].set_title('Accuracy Graph')\n",
    "\n",
    "    plt.show()\n",
    "\n",
    "LossAndAccuracyGraph(hist)"
   ]
  },
  {
   "cell_type": "markdown",
   "metadata": {},
   "source": [
    "After training and evaluating the model, the charts above displaying the progress of the model's loss and accuracy show a decent percentage of around 83-87 percent. The team will implement some refinements and fine-tuning on the entire machine learning process to create a better model that can ideally predict the provided test data to no less than 90 percent."
   ]
  },
  {
   "cell_type": "markdown",
   "metadata": {},
   "source": [
    "# Improvements"
   ]
  },
  {
   "cell_type": "markdown",
   "metadata": {},
   "source": [
    "### Points for Improvement\n",
    "\n",
    "The team looked to find way to improve the accuracy of the model. Some points brought up were:\n",
    "\n",
    "##### 1) Increasing the Amount of Training Data Samples\n",
    "\n",
    "The current dataset only has a total of 240 images. The amount of data samples for the model to learn from is very few and may result in overtraining at a very early stage. To reduce redundancy and to strengthen the model, image/data augmentation was applied. Image augmentation is the process of editing the image via Python code so that it would represent another image with the same label as the original. Flipping, rotating, even increasing the color contrast of the image will artifically increase the dataset size without having to create new images. Since these will be represented as completely different matrices when the model is learning them, a single image can represent multiple samples when augmented multiple times.\n",
    "\n",
    "##### 2) Balancing the Training Dataset\n",
    "\n",
    "The original dataset had a very imbalanced proportion of samples. There were a total of 76 apple images, 76 banana images, 76 orange images and 20 mixed fruit images. This skews the model towards recognizing other fruits, but not when there are multiple fruits in the picture. Using image augmentation on the mixed fruit samples lets the model train from an equal proportion of samples, and will result in a more accurate model.\n",
    "\n",
    "##### 3) Increasing the Layers in the Machine Learning Model\n",
    "\n",
    "As the original model only had 4 layers, the team decided to experiment with the different layers that a CNN can use. These range from Convolutional Layers, Max Pooling Layers, Flatten Layers, Dropout Layers and Dense Layers. Since the model can have any number of these layers as well as each layer having their own properties to tweak and refine, multiple configurations were tried until the arrangement with the most consistently high accuracy was built.\n",
    "\n",
    "##### 4) Tweaking Learning Parameters\n",
    "\n",
    "Since the actual fitting had its own properties like batch size, number of epochs, validation split, etc., the team also decided to experiment with these parameters. Tweaking the parameters did not significantly increase the accuracy of the model when it used the original dataset, so (1) and (2) were prioritized above this point.  \n",
    "\n",
    "##### Others\n",
    "\n",
    "Other steps taken that concerned the training dataset itself were correcting the labels and removing those that did not represent the data properly. For example, some images of mixed fruits were labeled as oranges. The team took to relabeling these images so as to refine the model's training."
   ]
  },
  {
   "cell_type": "markdown",
   "metadata": {},
   "source": [
    "### Balancing the Training Dataset and Increasing the Amount of Training Data Samples\n",
    "\n",
    "The process of creating synthetic images for the purpose of increasing the size of the dataset is called data augmentation. This is done via Python code, and importing PIL packages, allowing the images to be manipulated. Since this code changes the positioning, rotation, orientation, contrast, etc., these will reflect as different matrices when added to the dataset, and will increase the samples that represent the labels of our model. Since the current dataset has only 76 samples for each individual fruit and only 20 samples for mixed fruit, codes were written to (1) create new images to increase the count of overall samples in the dataset and (2) increase the number of mixed fruit samples so as to match the rest of the labels."
   ]
  },
  {
   "cell_type": "markdown",
   "metadata": {},
   "source": [
    "The code below copies each sample in the dataset to a new folder and creates additional images by rotation, flipping, contrast changing & shifting the images. In the case of mixed fruit samples, new images were created to equalize the number of samples for each label."
   ]
  },
  {
   "cell_type": "code",
   "execution_count": 9,
   "metadata": {},
   "outputs": [],
   "source": [
    "from PIL import Image\n",
    "from PIL import ImageEnhance\n",
    "from matplotlib import pyplot as plt\n",
    "from random import seed\n",
    "from random import randint\n",
    "import os\n",
    "import glob\n",
    "\n",
    "\n",
    "def manipulate_Image(img_path_old, save_path):\n",
    "\n",
    "    items = ['apple', 'banana', 'orange', 'mixed']\n",
    "\n",
    "    if os.path.exists(save_path):\n",
    "        # removed all data in the new image save folder if any\n",
    "        for files in os.listdir(save_path):\n",
    "            os.remove(save_path + '/' + files)\n",
    "    else:\n",
    "        # Create a new dir to save images if it does not exist\n",
    "        os.mkdir(save_path)\n",
    "\n",
    "    for item in items:\n",
    "\n",
    "        for file_name in os.listdir(img_path_old):\n",
    "            name = file_name.split('_')\n",
    "            if name[0] == item:\n",
    "                # opening image in the image location parameter\n",
    "                img_ = Image.open(img_path_old + '/' + file_name)\n",
    "                if img_.mode != 'RGB':\n",
    "                    img_ = img_.convert('RGB')\n",
    "\n",
    "                # Save all original images to the new folder\n",
    "                img_.save(save_path + '/' + file_name)\n",
    "\n",
    "                # Flip horozondally\n",
    "                img_flipped_H = img_.transpose(Image.FLIP_LEFT_RIGHT)\n",
    "                img_flipped_H.save(\n",
    "                    save_path + '/' +'{0}_{1}A.jpg'.format(item, name[1][-5::-1][::-1]))\n",
    "\n",
    "                # Flip vertically\n",
    "                img_flipped_V = img_.transpose(Image.FLIP_TOP_BOTTOM)\n",
    "                img_flipped_V.save(\n",
    "                    save_path + '/' +'{0}_{1}B.jpg'.format(item, name[1][-5::-1][::-1]))\n",
    "\n",
    "                # Enhance contarst by 50%\n",
    "                enh = ImageEnhance.Contrast(img_)\n",
    "                img_Enhanced = enh.enhance(1.5)\n",
    "                img_Enhanced.save(\n",
    "                    save_path + '/' + '{0}_{1}C.jpg'.format(item, name[1][-5::-1][::-1]))\n",
    "\n",
    "                # Rotation by angle 125 deg\n",
    "                DarkGreen = (0, 53, 24)\n",
    "                # fill color DarkGreen found to improve accuracy\n",
    "                rotated_img = img_.rotate(125, expand=0, fillcolor=DarkGreen)\n",
    "                rotated_img.save(\n",
    "                    save_path + '/' + '{0}_{1}D.jpg'.format(item, name[1][-5::-1][::-1]))\n",
    "\n",
    "                # Reduce contarst by 30%\n",
    "                enh = ImageEnhance.Contrast(img_)\n",
    "                img_Enhanced = enh.enhance(0.8)\n",
    "                img_Enhanced.save(\n",
    "                    save_path + '/' + '{0}_{1}E.jpg'.format(item, name[1][-5::-1][::-1]))\n",
    "\n",
    "                # Increase brightness\n",
    "                enhancer = ImageEnhance.Brightness(img_)\n",
    "                bright_image = enhancer.enhance(1.25)\n",
    "                bright_image.save(\n",
    "                    save_path + '/' + '{0}_{1}F.jpg'.format(item, name[1][-5::-1][::-1]))\n",
    "\n",
    "                # Increase sharpness\n",
    "                enhancer = ImageEnhance.Sharpness(img_)\n",
    "                sharp_image = enhancer.enhance(1.25)\n",
    "                sharp_image.save(\n",
    "                    save_path + '/' + '{0}_{1}G.jpg'.format(item, name[1][-5::-1][::-1]))\n",
    "\n",
    "                # Additional augmentation for mixed to have more samples\n",
    "                if name[0] == 'mixed':\n",
    "                    rot_angle = 22\n",
    "                    enhancement = 1.1\n",
    "                    brightness = 0.9\n",
    "                    sharpness = 0.9\n",
    "\n",
    "                    for j in range(5):\n",
    "                        # rot_angle = randint(15, 360) #generate random angle\n",
    "                        # enhancement = randint(1, 4)  #generate random contrast\n",
    "                        rotated_img = img_.rotate(\n",
    "                            rot_angle, expand=0, fillcolor=DarkGreen)\n",
    "                        rotated_img.save(\n",
    "                            save_path + '/' + '{0}_{1}H{2}.jpg'.format(item, name[1][-5::-1][::-1], j))\n",
    "                        rot_angle += 22\n",
    "\n",
    "                        # increase contrast\n",
    "                        enh = ImageEnhance.Contrast(img_)\n",
    "                        img_Enhanced = enh.enhance(enhancement)\n",
    "                        img_Enhanced.save(\n",
    "                            save_path + '/' + '{0}_{1}I{2}.jpg'.format(item, name[1][-5::-1][::-1], j))\n",
    "                        enhancement += 0.5\n",
    "\n",
    "                        # Change brightness\n",
    "                        enhancer = ImageEnhance.Brightness(img_)\n",
    "                        bright_image = enhancer.enhance(brightness)\n",
    "                        bright_image.save(\n",
    "                            save_path + '/' + '{0}_{1}J{2}.jpg'.format(item, name[1][-5::-1][::-1], j))\n",
    "                        brightness += 0.5\n",
    "\n",
    "                        # Change sharpness\n",
    "                        enhancer = ImageEnhance.Sharpness(img_)\n",
    "                        sharp_image = enhancer.enhance(sharpness)\n",
    "                        sharp_image.save(\n",
    "                            save_path + '/' + '{0}_{1}K{2}.jpg'.format(item, name[1][-5::-1][::-1], j))\n",
    "                        sharpness += 0.2\n"
   ]
  },
  {
   "cell_type": "code",
   "execution_count": 10,
   "metadata": {},
   "outputs": [
    {
     "name": "stderr",
     "output_type": "stream",
     "text": [
      "C:\\Users\\GG.MaX\\AppData\\Local\\Temp\\ipykernel_16992\\265853098.py:36: DeprecationWarning: FLIP_LEFT_RIGHT is deprecated and will be removed in Pillow 10 (2023-07-01). Use Transpose.FLIP_LEFT_RIGHT instead.\n",
      "  img_flipped_H = img_.transpose(Image.FLIP_LEFT_RIGHT)\n",
      "C:\\Users\\GG.MaX\\AppData\\Local\\Temp\\ipykernel_16992\\265853098.py:41: DeprecationWarning: FLIP_TOP_BOTTOM is deprecated and will be removed in Pillow 10 (2023-07-01). Use Transpose.FLIP_TOP_BOTTOM instead.\n",
      "  img_flipped_V = img_.transpose(Image.FLIP_TOP_BOTTOM)\n"
     ]
    }
   ],
   "source": [
    "img_path_old = \"train\"\n",
    "save_path = \"newimages\"\n",
    "\n",
    "#add more samples by image augmentation\n",
    "manipulate_Image(img_path_old, save_path)    \n"
   ]
  },
  {
   "cell_type": "markdown",
   "metadata": {},
   "source": [
    "To verify that the code for image augmentaion worked, the code below was run to check the number of samples that were artifically created."
   ]
  },
  {
   "cell_type": "code",
   "execution_count": 11,
   "metadata": {},
   "outputs": [
    {
     "name": "stdout",
     "output_type": "stream",
     "text": [
      "apple count:  600\n",
      "banana count:  568\n",
      "orange count:  576\n",
      "mixed count:  616\n"
     ]
    }
   ],
   "source": [
    "import glob\n",
    "import os\n",
    "\n",
    "def getImageCount(fruitName, path) : \n",
    "    # Counter variable\n",
    "    count = 0\n",
    "\n",
    "    # r'' raw string to preserve literal backslash\n",
    "    for file in os.listdir(path):\n",
    "        if(file.startswith(fruitName)):\n",
    "            count += 1\n",
    "    return count\n",
    "\n",
    "img_path_train = 'newimages'\n",
    "\n",
    "apple_count = getImageCount(fruitName = 'apple',path = img_path_train)\n",
    "banana_count = getImageCount(fruitName = 'banana',path = img_path_train)\n",
    "orange_count = getImageCount(fruitName = 'orange',path = img_path_train)\n",
    "mixed_count = getImageCount(fruitName = 'mixed',path = img_path_train)\n",
    "\n",
    "print (\"apple count: \", apple_count)\n",
    "print (\"banana count: \", banana_count)\n",
    "print (\"orange count: \", orange_count)\n",
    "print (\"mixed count: \", mixed_count)"
   ]
  },
  {
   "cell_type": "markdown",
   "metadata": {},
   "source": [
    "The count above shows the number of samples for each label. Since the proportion of the samples to the entire dataset now are more or less the same, the team decided to use all the created data samples for training the model."
   ]
  },
  {
   "cell_type": "code",
   "execution_count": 12,
   "metadata": {},
   "outputs": [
    {
     "name": "stdout",
     "output_type": "stream",
     "text": [
      "apple count: 600\n",
      "banana count: 568\n",
      "orange count: 576\n",
      "mixed count: 616\n"
     ]
    },
    {
     "data": {
      "text/plain": [
       "(2360, 64, 64, 3)"
      ]
     },
     "execution_count": 12,
     "metadata": {},
     "output_type": "execute_result"
    }
   ],
   "source": [
    "#balancing dataset by taking the lowest count among the 4 classes\n",
    "x_train2, y_train2 = datasetUpload(img_path_train, resol, 616)\n",
    "\n",
    "x_train2.shape"
   ]
  },
  {
   "cell_type": "markdown",
   "metadata": {},
   "source": [
    "The total number of images to train the model with is 2272, which is significantly higher than the initial 240 that was contained in the provided training dataset."
   ]
  },
  {
   "cell_type": "markdown",
   "metadata": {},
   "source": [
    "### 3) Increasing the Layers in the Machine Learning Model\n",
    "\n",
    "Originally, the team decided on a 4-layer model (2 Convolutional, 1 Flatten and 1 Dense layer). This time, for increased accuracy, the team decided to create a new one with a more elaborate stack of layers.\n",
    "\n",
    "- 2 Convolutional Layers\n",
    "- 1 Max Pooling Layer\n",
    "- 1 Global Max Pooling Layer\n",
    "- 1 Flatten Layer\n",
    "- 1 Pre-Dropout Dense Layer (128 neurons)\n",
    "- 1 Dropout Layer (11% dropout ratio)\n",
    "- 1 Dense Output Layer (4 neurons)\n",
    "\n",
    "The team decided on these layers as these showed the most consistently high results over the course of the study."
   ]
  },
  {
   "cell_type": "code",
   "execution_count": 13,
   "metadata": {},
   "outputs": [
    {
     "name": "stdout",
     "output_type": "stream",
     "text": [
      "Model: \"sequential_1\"\n",
      "_________________________________________________________________\n",
      " Layer (type)                Output Shape              Param #   \n",
      "=================================================================\n",
      " conv2d_2 (Conv2D)           (None, 62, 62, 32)        896       \n",
      "                                                                 \n",
      " conv2d_3 (Conv2D)           (None, 60, 60, 32)        9248      \n",
      "                                                                 \n",
      " max_pooling2d (MaxPooling2D  (None, 20, 20, 32)       0         \n",
      " )                                                               \n",
      "                                                                 \n",
      " global_max_pooling2d (Globa  (None, 32)               0         \n",
      " lMaxPooling2D)                                                  \n",
      "                                                                 \n",
      " flatten_1 (Flatten)         (None, 32)                0         \n",
      "                                                                 \n",
      " dense_1 (Dense)             (None, 128)               4224      \n",
      "                                                                 \n",
      " dropout (Dropout)           (None, 128)               0         \n",
      "                                                                 \n",
      " dense_2 (Dense)             (None, 4)                 516       \n",
      "                                                                 \n",
      "=================================================================\n",
      "Total params: 14,884\n",
      "Trainable params: 14,884\n",
      "Non-trainable params: 0\n",
      "_________________________________________________________________\n"
     ]
    }
   ],
   "source": [
    "model2 = tf.keras.Sequential()\n",
    "\n",
    "model2.add(tf.keras.Input(shape=(64, 64, 3)))\n",
    "model2.add(tf.keras.layers.Conv2D(filters=32,\n",
    "    kernel_size=(3, 3),\n",
    "    activation='relu',\n",
    "    input_shape=(64, 64, 3)))\n",
    "model2.add(tf.keras.layers.Conv2D(filters=32,\n",
    "    kernel_size=(3, 3),\n",
    "    activation='relu'))\n",
    "model2.add(tf.keras.layers.MaxPooling2D(pool_size=(3, 3)))\n",
    "\n",
    "model2.add(tf.keras.layers.GlobalMaxPooling2D())\n",
    "\n",
    "model2.add(tf.keras.layers.Flatten())\n",
    "model2.add(tf.keras.layers.Dense(units=128, activation='relu'))\n",
    "model2.add(tf.keras.layers.Dropout(rate=0.11))\n",
    "\n",
    "model2.add(tf.keras.layers.Dense(units=4, activation='softmax'))\n",
    "\n",
    "model2.summary()\n"
   ]
  },
  {
   "cell_type": "markdown",
   "metadata": {},
   "source": [
    "The team compiled the revised training dataset as well as the revised model using the same method as the base code. The same test data was also used to compare the performance of the base case as opposed to the revised one. The team also decided to increase the number of epochs to train with, from 15 to 25, to further improve the predictive capability of the model."
   ]
  },
  {
   "cell_type": "code",
   "execution_count": 14,
   "metadata": {},
   "outputs": [
    {
     "name": "stdout",
     "output_type": "stream",
     "text": [
      "Epoch 1/25\n",
      "74/74 [==============================] - 6s 78ms/step - loss: 1.3025 - accuracy: 0.3936\n",
      "Epoch 2/25\n",
      "74/74 [==============================] - 6s 79ms/step - loss: 0.6946 - accuracy: 0.7479\n",
      "Epoch 3/25\n",
      "74/74 [==============================] - 6s 79ms/step - loss: 0.4269 - accuracy: 0.8487\n",
      "Epoch 4/25\n",
      "74/74 [==============================] - 6s 77ms/step - loss: 0.3268 - accuracy: 0.8898\n",
      "Epoch 5/25\n",
      "74/74 [==============================] - 6s 75ms/step - loss: 0.2345 - accuracy: 0.9267\n",
      "Epoch 6/25\n",
      "74/74 [==============================] - 6s 76ms/step - loss: 0.1880 - accuracy: 0.9411\n",
      "Epoch 7/25\n",
      "74/74 [==============================] - 6s 77ms/step - loss: 0.1719 - accuracy: 0.9415\n",
      "Epoch 8/25\n",
      "74/74 [==============================] - 6s 77ms/step - loss: 0.1374 - accuracy: 0.9572\n",
      "Epoch 9/25\n",
      "74/74 [==============================] - 6s 78ms/step - loss: 0.1241 - accuracy: 0.9653\n",
      "Epoch 10/25\n",
      "74/74 [==============================] - 6s 77ms/step - loss: 0.1019 - accuracy: 0.9674\n",
      "Epoch 11/25\n",
      "74/74 [==============================] - 6s 77ms/step - loss: 0.0877 - accuracy: 0.9725\n",
      "Epoch 12/25\n",
      "74/74 [==============================] - 6s 78ms/step - loss: 0.0874 - accuracy: 0.9716\n",
      "Epoch 13/25\n",
      "74/74 [==============================] - 6s 78ms/step - loss: 0.0868 - accuracy: 0.9708\n",
      "Epoch 14/25\n",
      "74/74 [==============================] - 6s 80ms/step - loss: 0.0793 - accuracy: 0.9720\n",
      "Epoch 15/25\n",
      "74/74 [==============================] - 6s 78ms/step - loss: 0.0666 - accuracy: 0.9780\n",
      "Epoch 16/25\n",
      "74/74 [==============================] - 6s 81ms/step - loss: 0.0658 - accuracy: 0.9754\n",
      "Epoch 17/25\n",
      "74/74 [==============================] - 6s 78ms/step - loss: 0.0502 - accuracy: 0.9847\n",
      "Epoch 18/25\n",
      "74/74 [==============================] - 6s 82ms/step - loss: 0.0673 - accuracy: 0.9767\n",
      "Epoch 19/25\n",
      "74/74 [==============================] - 6s 82ms/step - loss: 0.0468 - accuracy: 0.9877\n",
      "Epoch 20/25\n",
      "74/74 [==============================] - 6s 84ms/step - loss: 0.0372 - accuracy: 0.9907\n",
      "Epoch 21/25\n",
      "74/74 [==============================] - 6s 78ms/step - loss: 0.0432 - accuracy: 0.9852\n",
      "Epoch 22/25\n",
      "74/74 [==============================] - 6s 76ms/step - loss: 0.0498 - accuracy: 0.9839\n",
      "Epoch 23/25\n",
      "74/74 [==============================] - 7s 89ms/step - loss: 0.0461 - accuracy: 0.9826\n",
      "Epoch 24/25\n",
      "74/74 [==============================] - 6s 86ms/step - loss: 0.0340 - accuracy: 0.9903\n",
      "Epoch 25/25\n",
      "74/74 [==============================] - 6s 83ms/step - loss: 0.0263 - accuracy: 0.9928\n"
     ]
    }
   ],
   "source": [
    "model2.compile(loss='categorical_crossentropy', optimizer='adam', metrics=['accuracy'])\n",
    "hist2 = model2.fit(x=x_train2/255, y=y_train2, epochs=25)"
   ]
  },
  {
   "cell_type": "code",
   "execution_count": 15,
   "metadata": {},
   "outputs": [
    {
     "name": "stdout",
     "output_type": "stream",
     "text": [
      "apple count: 19\n",
      "banana count: 18\n",
      "orange count: 18\n",
      "mixed count: 5\n"
     ]
    }
   ],
   "source": [
    "img_path_test = \"test\"\n",
    "\n",
    "x_test2, y_test2 = datasetUpload(img_path_test, resol, 999)\n"
   ]
  },
  {
   "cell_type": "code",
   "execution_count": 16,
   "metadata": {},
   "outputs": [
    {
     "name": "stdout",
     "output_type": "stream",
     "text": [
      "2/2 [==============================] - 0s 16ms/step - loss: 0.1918 - accuracy: 0.9333\n",
      "Loss:  0.19182123243808746 \tAccuracy:  0.9333333373069763\n"
     ]
    },
    {
     "data": {
      "text/plain": [
       "Text(0.5, 1.0, 'Accuracy Graph')"
      ]
     },
     "execution_count": 16,
     "metadata": {},
     "output_type": "execute_result"
    },
    {
     "data": {
      "image/png": "[encoded data removed]",
      "text/plain": [
       "<Figure size 864x432 with 2 Axes>"
      ]
     },
     "metadata": {
      "needs_background": "light"
     },
     "output_type": "display_data"
    }
   ],
   "source": [
    "loss, accuracy = model2.evaluate(x = x_test2/255, y = y_test2)\n",
    "print(\"Loss: \", loss, \"\\tAccuracy: \", accuracy)\n",
    "\n",
    "fig, ax = plt.subplots(nrows=1, ncols=2, figsize=(12, 6))\n",
    "\n",
    "ax[0].plot(hist2.history['loss'], label = \"loss\")\n",
    "ax[0].set_xlabel('Epochs')\n",
    "ax[0].set_ylabel('Loss')\n",
    "ax[0].set_title('Loss Graph')\n",
    "\n",
    "ax[1].plot(hist2.history['accuracy'], label = \"accuracy\")\n",
    "ax[1].set_xlabel('Epochs')\n",
    "ax[1].set_ylabel('Accuracy')\n",
    "ax[1].set_title('Accuracy Graph')\n"
   ]
  },
  {
   "cell_type": "markdown",
   "metadata": {},
   "source": [
    "After all revisions and tweaking were performed, the model now consistently runs at 90-94% accuracy every training period. Each step incrementally added to the overall accuracy of the model, however, it was noted that balancing the dataset as well as increasing the number of samples were the most significant factor in increasing the model's accuracy."
   ]
  }
 ],
 "metadata": {
  "interpreter": {
   "hash": "aeb46788cc9e37a3c4b351ec3da48dcc3346ef70d244037754e78aba3bb85a29"
  },
  "kernelspec": {
   "display_name": "Python 3.10.4 ('env': venv)",
   "language": "python",
   "name": "python3"
  },
  "language_info": {
   "codemirror_mode": {
    "name": "ipython",
    "version": 3
   },
   "file_extension": ".py",
   "mimetype": "text/x-python",
   "name": "python",
   "nbconvert_exporter": "python",
   "pygments_lexer": "ipython3",
   "version": "3.10.4"
  },
  "orig_nbformat": 4
 },
 "nbformat": 4,
 "nbformat_minor": 2
}
